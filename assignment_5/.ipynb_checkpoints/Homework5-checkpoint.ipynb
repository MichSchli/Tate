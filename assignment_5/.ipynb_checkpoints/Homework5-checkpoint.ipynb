{
 "metadata": {
  "name": "",
  "signature": "sha256:5fc014af6279bcb9fc23ff01036c73774a8b020254142ec413439b66a3e80c29"
 },
 "nbformat": 3,
 "nbformat_minor": 0,
 "worksheets": [
  {
   "cells": [
    {
     "cell_type": "markdown",
     "metadata": {},
     "source": [
      "Homework 5\n",
      "====\n",
      "\n",
      "The final homework is designed to let you use everything you have learned up to this point. You should select one of the data sets below and then perform the following three tasks: statistical analysis, building a predictive model, and visualization. \n",
      "\n",
      "Grading\n",
      "----\n",
      "There is no fixed form this time, but note that you need to fulfill all of the parts. Please also add a few lines at the beginning of your code to describe what you did and why. The homework is worth 100pts, you need at least 50 to have it counted.\n",
      "\n",
      "\n",
      "Co\u00f6peration\n",
      "----\n",
      "You may opt to work together with up to ***2*** other students. In that case, please enter the names of all authors in the code. The group only needs to submit one homework.\n",
      "However, group homeworks need to be more substantial in size and depth than individual homeworks.\n",
      "\n",
      "Data Sets\n",
      "----\n",
      "Select one of the following data sets. You are allowed to use as many additional data sets as you would like, but please make sure to document them.\n",
      "\n",
      "#### Tate Gallery Art Collection\n",
      "\n",
      "Meta-data on more than 70,000 artworks owned by the London gallery. Biographical information on some artists are provided as well. Files are in CSV and JSON format, and may be downloaded from the data set's [github repository](https://github.com/tategallery/collection).\n",
      "\n",
      "#### Million Song Dataset\n",
      "\n",
      "This dataset collects various aspects of one million songs, including meta-data about artists and charateristics of the audio.  It has also been linked up with lyrics through the musiXmatch dataset. \n",
      "\n",
      "The dataset itself is huge (280 GB), so we suggest you only work with the meta-data and lyrics parts. \n",
      "\n",
      "\n",
      "* (Main page for dataset)[http://labrosa.ee.columbia.edu/millionsong/]\n",
      "* (Data example)[http://labrosa.ee.columbia.edu/millionsong/pages/example-track-description]\n",
      "* (Description of lyrics dataset)[http://labrosa.ee.columbia.edu/millionsong/musixmatch#desc]\n",
      "\n",
      "\n",
      "#### Trustpilot Danish Reviews\n",
      "\n",
      "A complete record of the reviews posted on the Danish part of the Trustpilot user review homepage. The Danish site has more than 600,000 users, and includes demographic information (age, gender, place of living) about a large proportion of the them. \n",
      "\n",
      "* [Review and users](https://dl.dropboxusercontent.com/u/1423772/trustpilot_denmark_auto_gender.jsonl)\n",
      "* [Company data](https://dl.dropboxusercontent.com/u/1423772/trustpilot_company.jsonl)\n",
      "\n",
      "The dataset has the following fields for users, reviews and companies:\n",
      "\n",
      "**User** Name, ID, profile text, location (city and country), gender, year of birth.\n",
      "\n",
      "**Review** Title, text, rating (1--5), User ID, Company ID, Date and time of review\n",
      "\n",
      "**Company** Name, categories (e.g., electronics), number of ratings, description, address, location (city and country)\n",
      "\n",
      "You do NOT need to include these data sets in your submission, but indicate which one you used.\n"
     ]
    },
    {
     "cell_type": "code",
     "collapsed": false,
     "input": [
      "#Imports:\n",
      "%matplotlib inline\n",
      "\n",
      "import codecs\n",
      "import json\n",
      "import pandas as pd\n",
      "import numpy as np\n",
      "import collections\n",
      "import os\n",
      "import random\n",
      "import sklearn\n",
      "import re\n",
      "import math\n",
      "from skimage import io, color\n",
      "from skimage.io import imshow\n",
      "from sklearn.feature_extraction import DictVectorizer"
     ],
     "language": "python",
     "metadata": {},
     "outputs": [],
     "prompt_number": 104
    },
    {
     "cell_type": "markdown",
     "metadata": {},
     "source": [
      "Part1: Statistical Analysis (30pts)\n",
      "----\n",
      "\n",
      "Perform a statistical analysis of the data. Suggested Python module to use here: `pandas`.\n",
      "\n",
      "Some questions you should consider: \n",
      "* How can you best analyze the data?\n",
      "* How many instances are there, how are the values distributed? \n",
      "* Are there any outliers?\n",
      "\n",
      "Grading will consider how thorough the description is, and whether it makes sense for the data set."
     ]
    },
    {
     "cell_type": "code",
     "collapsed": false,
     "input": [
      "#Define a function to read in a JSON-file and return a dictionary:\n",
      "def JSONload(filepath):\n",
      "    with codecs.open(filepath, 'r', encoding='utf-8') as jsonfile:\n",
      "        return json.load(jsonfile)\n",
      "           \n",
      "#Test it:\n",
      "print JSONload('collection/artworks/a/000/a00001-1035.json')"
     ],
     "language": "python",
     "metadata": {},
     "outputs": [
      {
       "output_type": "stream",
       "stream": "stdout",
       "text": [
        "{u'inscription': None, u'classification': u'on paper, unique', u'height': u'419', u'thumbnailUrl': u'http://www.tate.org.uk/art/images/work/A/A00/A00001_8.jpg', u'id': 1035, u'acno': u'A00001', u'contributors': [{u'gender': u'Male', u'mda': u'Blake, Robert', u'birthYear': 1762, u'fc': u'Robert Blake', u'role': u'artist', u'startLetter': u'B', u'date': u'1762\\u20131787', u'id': 38, u'displayOrder': 1}], u'title': u'A Figure Bowing before a Seated Old Man with his Arm Outstretched in Benediction. Verso: Indecipherable Sketch', u'width': u'394', u'subjects': {u'children': [{u'children': [{u'children': [{u'id': 1050, u'name': u'arm/arms raised'}, {u'id': 272, u'name': u'kneeling'}, {u'id': 694, u'name': u'sitting'}], u'name': u'actions: postures and motions', u'id': 92}, {u'children': [{u'id': 195, u'name': u'man'}, {u'id': 1134, u'name': u'man, old'}], u'name': u'adults', u'id': 95}], u'name': u'people', u'id': 91}, {u'children': [{u'children': [{u'id': 5734, u'name': u'blessing'}], u'name': u'universal religious imagery', u'id': 5731}], u'name': u'religion and belief', u'id': 132}], u'name': u'subject', u'id': 1}, u'foreignTitle': None, u'units': u'mm', u'dateText': u'date not known', u'contributorCount': 1, u'medium': u'Watercolour, ink, chalk and graphite on paper. Verso: graphite on paper', u'catalogueGroup': {}, u'movementCount': 0, u'dimensions': u'support: 394 x 419 mm', u'thumbnailCopyright': None, u'creditLine': u'Presented by Mrs John Richmond 1922', u'url': u'http://www.tate.org.uk/art/artworks/blake-a-figure-bowing-before-a-seated-old-man-with-his-arm-outstretched-in-benediction-a00001', u'dateRange': None, u'all_artists': u'Robert Blake', u'acquisitionYear': 1922, u'depth': u'', u'groupTitle': None, u'subjectCount': 6}\n"
       ]
      }
     ],
     "prompt_number": 3
    },
    {
     "cell_type": "code",
     "collapsed": false,
     "input": [
      "#Define a function to flatten a dictionary:\n",
      "def flatten(d, parent_key=''):\n",
      "    items = {}\n",
      "    for k, v in d.items():\n",
      "        new_key = parent_key + \"_\"+k if parent_key else k\n",
      "        \n",
      "        if type(v) == type({}):\n",
      "            nk = k+\"_\"+unicode(v['id'])\n",
      "            items.update(flatten(v, nk))\n",
      "        elif type(v) == type([]):\n",
      "            for elem in v:\n",
      "                nk = parent_key + '_' + unicode(elem['id'])\n",
      "                \n",
      "                items.update(flatten(elem, nk))\n",
      "        else:\n",
      "            items[new_key] = unicode(v)\n",
      "    \n",
      "    return items\n",
      "    \n",
      "#Define a function to turn an art dictionary into a pandas frame:\n",
      "def getDataframe(dic, to_be_kept, is_artist=''):\n",
      "    #Memorize a potential artist:\n",
      "    a = False\n",
      "    if is_artist:\n",
      "        for c in dic['contributors']:\n",
      "            if is_artist in c['fc']:\n",
      "                a = True\n",
      "                break\n",
      "    \n",
      "    #First, we crop the dictionary:\n",
      "    to_be_cropped = list(set(dic.keys()) - set(to_be_kept))\n",
      "    for key in to_be_cropped:\n",
      "        if key in dic:\n",
      "            del dic[key]\n",
      "    \n",
      "    #We flatten the dictionary:\n",
      "    flat_dic = flatten(dic)\n",
      "    \n",
      "    #Add a potential artist:\n",
      "    if is_artist:\n",
      "        flat_dic['is_'+is_artist] = a\n",
      "        \n",
      "    #Then, we make a dictionary:\n",
      "    return pd.DataFrame(flat_dic, index=[0])\n",
      "    \n",
      "    \n",
      "td = getDataframe(JSONload('collection/artworks/a/000/a00001-1035.json'), ['title'], is_artist='Turner')\n",
      "\n",
      "print td"
     ],
     "language": "python",
     "metadata": {},
     "outputs": [
      {
       "output_type": "stream",
       "stream": "stdout",
       "text": [
        "  is_Turner                                              title\n",
        "0     False  A Figure Bowing before a Seated Old Man with h...\n"
       ]
      }
     ],
     "prompt_number": 4
    },
    {
     "cell_type": "code",
     "collapsed": false,
     "input": [
      "'''\n",
      "\n",
      "A set of functions to read in JSON-files from the recursive directory structure are defined here:\n",
      "\n",
      "'''\n",
      "\n",
      "#Define a function to get immediate successor directories:\n",
      "def get_immediate_subdirectories(a_dir):\n",
      "    return [name for name in os.listdir(a_dir)\n",
      "            if os.path.isdir(os.path.join(a_dir, name))]\n",
      "\n",
      "#Define a function to get JSON files:\n",
      "def get_json_files(a_dir):\n",
      "    return [name for name in os.listdir(a_dir) if (os.path.isfile(os.path.join(a_dir, name)) and name.endswith('.json'))]\n",
      "\n",
      "\n",
      "#Define a function to recursively build a list of JSON files:\n",
      "def build_dataset(path):\n",
      "    items = []\n",
      "    \n",
      "    #Get files in current folder:\n",
      "    for jsonfile in get_json_files(path):\n",
      "        items.append(path + '/'+jsonfile)\n",
      "    \n",
      "    #Get files in subfolders:\n",
      "    for subdir in get_immediate_subdirectories(path):\n",
      "        items.extend(build_dataset( path + '/'+subdir))\n",
      "        \n",
      "    return items\n",
      "        \n",
      "\n",
      "print len(build_dataset(\"collection/artworks/a/000\"))"
     ],
     "language": "python",
     "metadata": {},
     "outputs": [
      {
       "output_type": "stream",
       "stream": "stdout",
       "text": [
        "99\n"
       ]
      }
     ],
     "prompt_number": 5
    },
    {
     "cell_type": "code",
     "collapsed": false,
     "input": [
      "#Put everything - and i do mean everything - into an array for easy sampling:\n",
      "data = build_dataset(\"collection/artworks\")"
     ],
     "language": "python",
     "metadata": {},
     "outputs": [],
     "prompt_number": 6
    },
    {
     "cell_type": "code",
     "collapsed": false,
     "input": [
      "#We don't want to test on the entire dataset, but the files are NOT independent of the folder structure:\n",
      "jsonpaths = random.sample(data, 5000)"
     ],
     "language": "python",
     "metadata": {},
     "outputs": [],
     "prompt_number": 145
    },
    {
     "cell_type": "code",
     "collapsed": false,
     "input": [
      "df = pd.DataFrame({})\n",
      "\n",
      "\n",
      "for path in jsonpaths:\n",
      "    df = df.append(getDataframe(JSONload(path), ['title','id', 'thumbnailUrl', 'acquisitionYear', 'dateText', 'medium', 'all_artists'], is_artist='Turner'), ignore_index = True)\n",
      "\n",
      "df.head()"
     ],
     "language": "python",
     "metadata": {},
     "outputs": [
      {
       "html": [
        "<div style=\"max-height:1000px;max-width:1500px;overflow:auto;\">\n",
        "<table border=\"1\" class=\"dataframe\">\n",
        "  <thead>\n",
        "    <tr style=\"text-align: right;\">\n",
        "      <th></th>\n",
        "      <th>acquisitionYear</th>\n",
        "      <th>all_artists</th>\n",
        "      <th>dateText</th>\n",
        "      <th>id</th>\n",
        "      <th>is_Turner</th>\n",
        "      <th>medium</th>\n",
        "      <th>thumbnailUrl</th>\n",
        "      <th>title</th>\n",
        "    </tr>\n",
        "  </thead>\n",
        "  <tbody>\n",
        "    <tr>\n",
        "      <th>0</th>\n",
        "      <td> 1856</td>\n",
        "      <td> Joseph Mallord William Turner</td>\n",
        "      <td> 1805</td>\n",
        "      <td> 33578</td>\n",
        "      <td>  True</td>\n",
        "      <td>                None</td>\n",
        "      <td> http://www.tate.org.uk/art/images/work/D/D06/D...</td>\n",
        "      <td>                                           Chryses</td>\n",
        "    </tr>\n",
        "    <tr>\n",
        "      <th>1</th>\n",
        "      <td> 1856</td>\n",
        "      <td> Joseph Mallord William Turner</td>\n",
        "      <td> 1824</td>\n",
        "      <td> 47163</td>\n",
        "      <td>  True</td>\n",
        "      <td>   Graphite on paper</td>\n",
        "      <td> http://www.tate.org.uk/art/images/work/D/D19/D...</td>\n",
        "      <td> Nine Sketches between Alken and Gondorf: (9) L...</td>\n",
        "    </tr>\n",
        "    <tr>\n",
        "      <th>2</th>\n",
        "      <td> 1856</td>\n",
        "      <td> Joseph Mallord William Turner</td>\n",
        "      <td> 1845</td>\n",
        "      <td> 62396</td>\n",
        "      <td>  True</td>\n",
        "      <td>   Graphite on paper</td>\n",
        "      <td> http://www.tate.org.uk/art/images/work/D/D35/D...</td>\n",
        "      <td>                                            A View</td>\n",
        "    </tr>\n",
        "    <tr>\n",
        "      <th>3</th>\n",
        "      <td> 1979</td>\n",
        "      <td>                   John Walker</td>\n",
        "      <td> 1973</td>\n",
        "      <td> 15837</td>\n",
        "      <td> False</td>\n",
        "      <td> Lithograph on paper</td>\n",
        "      <td> http://www.tate.org.uk/art/images/work/P/P07/P...</td>\n",
        "      <td>                                               XII</td>\n",
        "    </tr>\n",
        "    <tr>\n",
        "      <th>4</th>\n",
        "      <td> 1856</td>\n",
        "      <td> Joseph Mallord William Turner</td>\n",
        "      <td> 1816</td>\n",
        "      <td> 38501</td>\n",
        "      <td>  True</td>\n",
        "      <td>   Graphite on paper</td>\n",
        "      <td> http://www.tate.org.uk/art/images/work/D/D11/D...</td>\n",
        "      <td>       Kirkby Lonsdale Bridge, with the River Lune</td>\n",
        "    </tr>\n",
        "  </tbody>\n",
        "</table>\n",
        "</div>"
       ],
       "metadata": {},
       "output_type": "pyout",
       "prompt_number": 146,
       "text": [
        "  acquisitionYear                    all_artists dateText     id is_Turner  \\\n",
        "0            1856  Joseph Mallord William Turner     1805  33578      True   \n",
        "1            1856  Joseph Mallord William Turner     1824  47163      True   \n",
        "2            1856  Joseph Mallord William Turner     1845  62396      True   \n",
        "3            1979                    John Walker     1973  15837     False   \n",
        "4            1856  Joseph Mallord William Turner     1816  38501      True   \n",
        "\n",
        "                medium                                       thumbnailUrl  \\\n",
        "0                 None  http://www.tate.org.uk/art/images/work/D/D06/D...   \n",
        "1    Graphite on paper  http://www.tate.org.uk/art/images/work/D/D19/D...   \n",
        "2    Graphite on paper  http://www.tate.org.uk/art/images/work/D/D35/D...   \n",
        "3  Lithograph on paper  http://www.tate.org.uk/art/images/work/P/P07/P...   \n",
        "4    Graphite on paper  http://www.tate.org.uk/art/images/work/D/D11/D...   \n",
        "\n",
        "                                               title  \n",
        "0                                            Chryses  \n",
        "1  Nine Sketches between Alken and Gondorf: (9) L...  \n",
        "2                                             A View  \n",
        "3                                                XII  \n",
        "4        Kirkby Lonsdale Bridge, with the River Lune  "
       ]
      }
     ],
     "prompt_number": 146
    },
    {
     "cell_type": "code",
     "collapsed": false,
     "input": [
      "#Define a function to map a dateText to a date:\n",
      "def mapDate(text):\n",
      "    ns = re.findall(r'\\b\\d+\\b', text)\n",
      "    \n",
      "    #If there is no year return NaN:\n",
      "    if len(ns)==0:\n",
      "        return np.NaN\n",
      "    \n",
      "    #If there is a single year return that:\n",
      "    elif len(ns)==1:\n",
      "        return int(ns[0])\n",
      "    \n",
      "    #If a range of years has been given, find the average:\n",
      "    #Note that if some moron wrote 1899-01, we interpret it as 1899-1801, not 1901\n",
      "    else:\n",
      "        chars_needed = len(ns[0])-len(ns[1])\n",
      "        ns[1] = int(ns[0][:chars_needed] + ns[1])\n",
      "        ns[0] = int(ns[0])\n",
      "    \n",
      "        return (ns[0]+ns[1])/2\n",
      "    \n",
      "#Map all dateTexts to dates:\n",
      "df['date_painted'] = df['dateText'].map(lambda x: mapDate(x))\n",
      "df = df.drop('dateText',1)\n",
      "\n",
      "#Drop the rows with no thumbnail or no year:\n",
      "df = df[df['thumbnailUrl'] != 'None']\n",
      "df = df[df['thumbnailUrl'] != '[blank]']\n",
      "df = df[df['medium'] != 'None']\n",
      "df = df[np.isfinite(df['date_painted'])]\n",
      "\n",
      "df = df.reset_index(drop=True)\n",
      "\n",
      "#Ensure that everything went okay:\n",
      "df.head()"
     ],
     "language": "python",
     "metadata": {},
     "outputs": [
      {
       "html": [
        "<div style=\"max-height:1000px;max-width:1500px;overflow:auto;\">\n",
        "<table border=\"1\" class=\"dataframe\">\n",
        "  <thead>\n",
        "    <tr style=\"text-align: right;\">\n",
        "      <th></th>\n",
        "      <th>acquisitionYear</th>\n",
        "      <th>all_artists</th>\n",
        "      <th>id</th>\n",
        "      <th>is_Turner</th>\n",
        "      <th>medium</th>\n",
        "      <th>thumbnailUrl</th>\n",
        "      <th>title</th>\n",
        "      <th>date_painted</th>\n",
        "    </tr>\n",
        "  </thead>\n",
        "  <tbody>\n",
        "    <tr>\n",
        "      <th>0</th>\n",
        "      <td> 1856</td>\n",
        "      <td> Joseph Mallord William Turner</td>\n",
        "      <td> 47163</td>\n",
        "      <td>  True</td>\n",
        "      <td>   Graphite on paper</td>\n",
        "      <td> http://www.tate.org.uk/art/images/work/D/D19/D...</td>\n",
        "      <td> Nine Sketches between Alken and Gondorf: (9) L...</td>\n",
        "      <td> 1824</td>\n",
        "    </tr>\n",
        "    <tr>\n",
        "      <th>1</th>\n",
        "      <td> 1856</td>\n",
        "      <td> Joseph Mallord William Turner</td>\n",
        "      <td> 62396</td>\n",
        "      <td>  True</td>\n",
        "      <td>   Graphite on paper</td>\n",
        "      <td> http://www.tate.org.uk/art/images/work/D/D35/D...</td>\n",
        "      <td>                                            A View</td>\n",
        "      <td> 1845</td>\n",
        "    </tr>\n",
        "    <tr>\n",
        "      <th>2</th>\n",
        "      <td> 1979</td>\n",
        "      <td>                   John Walker</td>\n",
        "      <td> 15837</td>\n",
        "      <td> False</td>\n",
        "      <td> Lithograph on paper</td>\n",
        "      <td> http://www.tate.org.uk/art/images/work/P/P07/P...</td>\n",
        "      <td>                                               XII</td>\n",
        "      <td> 1973</td>\n",
        "    </tr>\n",
        "    <tr>\n",
        "      <th>3</th>\n",
        "      <td> 1856</td>\n",
        "      <td> Joseph Mallord William Turner</td>\n",
        "      <td> 38501</td>\n",
        "      <td>  True</td>\n",
        "      <td>   Graphite on paper</td>\n",
        "      <td> http://www.tate.org.uk/art/images/work/D/D11/D...</td>\n",
        "      <td>       Kirkby Lonsdale Bridge, with the River Lune</td>\n",
        "      <td> 1816</td>\n",
        "    </tr>\n",
        "    <tr>\n",
        "      <th>4</th>\n",
        "      <td> 1856</td>\n",
        "      <td> Joseph Mallord William Turner</td>\n",
        "      <td> 55806</td>\n",
        "      <td>  True</td>\n",
        "      <td>   Graphite on paper</td>\n",
        "      <td> http://www.tate.org.uk/art/images/work/D/D28/D...</td>\n",
        "      <td> Mainz Cathedral from the Gutenbergplatz, with ...</td>\n",
        "      <td> 1839</td>\n",
        "    </tr>\n",
        "  </tbody>\n",
        "</table>\n",
        "</div>"
       ],
       "metadata": {},
       "output_type": "pyout",
       "prompt_number": 147,
       "text": [
        "  acquisitionYear                    all_artists     id is_Turner  \\\n",
        "0            1856  Joseph Mallord William Turner  47163      True   \n",
        "1            1856  Joseph Mallord William Turner  62396      True   \n",
        "2            1979                    John Walker  15837     False   \n",
        "3            1856  Joseph Mallord William Turner  38501      True   \n",
        "4            1856  Joseph Mallord William Turner  55806      True   \n",
        "\n",
        "                medium                                       thumbnailUrl  \\\n",
        "0    Graphite on paper  http://www.tate.org.uk/art/images/work/D/D19/D...   \n",
        "1    Graphite on paper  http://www.tate.org.uk/art/images/work/D/D35/D...   \n",
        "2  Lithograph on paper  http://www.tate.org.uk/art/images/work/P/P07/P...   \n",
        "3    Graphite on paper  http://www.tate.org.uk/art/images/work/D/D11/D...   \n",
        "4    Graphite on paper  http://www.tate.org.uk/art/images/work/D/D28/D...   \n",
        "\n",
        "                                               title  date_painted  \n",
        "0  Nine Sketches between Alken and Gondorf: (9) L...          1824  \n",
        "1                                             A View          1845  \n",
        "2                                                XII          1973  \n",
        "3        Kirkby Lonsdale Bridge, with the River Lune          1816  \n",
        "4  Mainz Cathedral from the Gutenbergplatz, with ...          1839  "
       ]
      }
     ],
     "prompt_number": 147
    },
    {
     "cell_type": "code",
     "collapsed": false,
     "input": [
      "#Define a function to get a picture from an url:\n",
      "def get_image(url):\n",
      "    img = io.imread(url, as_grey = False)\n",
      "    if not len(img.shape)==3:\n",
      "        return color.gray2rgb(img)\n",
      "    return img\n",
      "\n",
      "#Define an hsv-histogram function:\n",
      "def hsv_histogram(image_rgb, b, w=[1,1,1]):\n",
      "    hsv_img = color.rgb2hsv(image_rgb)\n",
      "    h_histogram = np.histogram(hsv_img[:,:,0], bins=[x/float(b) for x in range(0,b+1)])[0]    \n",
      "    s_histogram = np.histogram(hsv_img[:,:,1], bins=[x/float(b) for x in range(0,b+1)])[0]\n",
      "    v_histogram = np.histogram(hsv_img[:,:,2], bins=[x/float(b) for x in range(0,b+1)])[0]\n",
      "    \n",
      "    return np.concatenate((h_histogram*w[0], s_histogram*w[1], v_histogram*w[2]))\n",
      "\n",
      "def rgb_histogram(image_rgb, b, w=[1,1,1]):\n",
      "    image_rgb = image_rgb/255.0\n",
      "    \n",
      "    r_histogram = np.histogram(image_rgb[:,:,0], bins=[x/float(b) for x in range(0,b+1)])[0]    \n",
      "    g_histogram = np.histogram(image_rgb[:,:,1], bins=[x/float(b) for x in range(0,b+1)])[0]\n",
      "    b_histogram = np.histogram(image_rgb[:,:,2], bins=[x/float(b) for x in range(0,b+1)])[0]\n",
      "    \n",
      "    return np.concatenate((r_histogram*w[0], g_histogram*w[1], b_histogram*w[2]))\n",
      "\n",
      "\n",
      "img = get_image(df.ix[0, 'thumbnailUrl'])\n",
      "\n",
      "print df.ix[0, 'title']\n",
      "print df.ix[0, 'all_artists']\n",
      "imshow(img)"
     ],
     "language": "python",
     "metadata": {},
     "outputs": [
      {
       "output_type": "stream",
       "stream": "stdout",
       "text": [
        "Nine Sketches between Alken and Gondorf: (9) Lehmen\n",
        "Joseph Mallord William Turner\n"
       ]
      },
      {
       "metadata": {},
       "output_type": "display_data",
       "png": "[encoded data removed]",
       "text": [
        "<matplotlib.figure.Figure at 0x1748ae48>"
       ]
      }
     ],
     "prompt_number": 148
    },
    {
     "cell_type": "code",
     "collapsed": false,
     "input": [
      "def mapThumbnail(url):\n",
      "    return hsv_histogram(get_image(url), 3)\n",
      "\n",
      "df['hsv_buckets'] = df['thumbnailUrl'].map(lambda x: mapThumbnail(x))"
     ],
     "language": "python",
     "metadata": {},
     "outputs": [],
     "prompt_number": 125
    },
    {
     "cell_type": "code",
     "collapsed": false,
     "input": [
      "df.head()"
     ],
     "language": "python",
     "metadata": {},
     "outputs": [
      {
       "html": [
        "<div style=\"max-height:1000px;max-width:1500px;overflow:auto;\">\n",
        "<table border=\"1\" class=\"dataframe\">\n",
        "  <thead>\n",
        "    <tr style=\"text-align: right;\">\n",
        "      <th></th>\n",
        "      <th>acquisitionYear</th>\n",
        "      <th>all_artists</th>\n",
        "      <th>id</th>\n",
        "      <th>is_Turner</th>\n",
        "      <th>medium</th>\n",
        "      <th>thumbnailUrl</th>\n",
        "      <th>title</th>\n",
        "      <th>date_painted</th>\n",
        "      <th>hsv_buckets</th>\n",
        "    </tr>\n",
        "  </thead>\n",
        "  <tbody>\n",
        "    <tr>\n",
        "      <th>0</th>\n",
        "      <td> 1940</td>\n",
        "      <td>        Walter Richard Sickert</td>\n",
        "      <td> 13393</td>\n",
        "      <td> False</td>\n",
        "      <td> Oil paint on canvas</td>\n",
        "      <td> http://www.tate.org.uk/art/images/work/N/N05/N...</td>\n",
        "      <td>                                   Belvedere, Bath</td>\n",
        "      <td> 1917</td>\n",
        "      <td> [10613, 20790, 32341, 62815, 906, 23, 16270, 3...</td>\n",
        "    </tr>\n",
        "    <tr>\n",
        "      <th>1</th>\n",
        "      <td> 1856</td>\n",
        "      <td> Joseph Mallord William Turner</td>\n",
        "      <td> 56410</td>\n",
        "      <td>  True</td>\n",
        "      <td>   Graphite on paper</td>\n",
        "      <td> http://www.tate.org.uk/art/images/work/D/D29/D...</td>\n",
        "      <td>                             The Castle of Chillon</td>\n",
        "      <td> 1836</td>\n",
        "      <td> [36096, 5296, 592, 39341, 2431, 212, 10486, 26...</td>\n",
        "    </tr>\n",
        "    <tr>\n",
        "      <th>2</th>\n",
        "      <td> 1856</td>\n",
        "      <td> Joseph Mallord William Turner</td>\n",
        "      <td> 45866</td>\n",
        "      <td>  True</td>\n",
        "      <td>   Graphite on paper</td>\n",
        "      <td> http://www.tate.org.uk/art/images/work/D/D18/D...</td>\n",
        "      <td> A Naked Couple Engaged in Sexual Activity, a N...</td>\n",
        "      <td> 1810</td>\n",
        "      <td> [34854, 11674, 64, 46446, 142, 4, 12457, 544, ...</td>\n",
        "    </tr>\n",
        "    <tr>\n",
        "      <th>3</th>\n",
        "      <td> 2009</td>\n",
        "      <td>                  Le\u00f3n Ferrari</td>\n",
        "      <td> 96995</td>\n",
        "      <td> False</td>\n",
        "      <td>  Blueprint on paper</td>\n",
        "      <td> http://www.tate.org.uk/art/images/work/P/P79/P...</td>\n",
        "      <td>                                             Board</td>\n",
        "      <td> 1994</td>\n",
        "      <td>   [578, 6496, 57950, 65024, 0, 0, 0, 3780, 61244]</td>\n",
        "    </tr>\n",
        "    <tr>\n",
        "      <th>4</th>\n",
        "      <td> 1856</td>\n",
        "      <td> Joseph Mallord William Turner</td>\n",
        "      <td> 59117</td>\n",
        "      <td>  True</td>\n",
        "      <td>   Graphite on paper</td>\n",
        "      <td> http://www.tate.org.uk/art/images/work/D/D31/D...</td>\n",
        "      <td>                                 Distant Buildings</td>\n",
        "      <td> 1840</td>\n",
        "      <td> [52671, 514, 319, 52832, 657, 15, 11269, 829, ...</td>\n",
        "    </tr>\n",
        "  </tbody>\n",
        "</table>\n",
        "</div>"
       ],
       "metadata": {},
       "output_type": "pyout",
       "prompt_number": 126,
       "text": [
        "  acquisitionYear                    all_artists     id is_Turner  \\\n",
        "0            1940         Walter Richard Sickert  13393     False   \n",
        "1            1856  Joseph Mallord William Turner  56410      True   \n",
        "2            1856  Joseph Mallord William Turner  45866      True   \n",
        "3            2009                   Le\u00f3n Ferrari  96995     False   \n",
        "4            1856  Joseph Mallord William Turner  59117      True   \n",
        "\n",
        "                medium                                       thumbnailUrl  \\\n",
        "0  Oil paint on canvas  http://www.tate.org.uk/art/images/work/N/N05/N...   \n",
        "1    Graphite on paper  http://www.tate.org.uk/art/images/work/D/D29/D...   \n",
        "2    Graphite on paper  http://www.tate.org.uk/art/images/work/D/D18/D...   \n",
        "3   Blueprint on paper  http://www.tate.org.uk/art/images/work/P/P79/P...   \n",
        "4    Graphite on paper  http://www.tate.org.uk/art/images/work/D/D31/D...   \n",
        "\n",
        "                                               title  date_painted  \\\n",
        "0                                    Belvedere, Bath          1917   \n",
        "1                              The Castle of Chillon          1836   \n",
        "2  A Naked Couple Engaged in Sexual Activity, a N...          1810   \n",
        "3                                              Board          1994   \n",
        "4                                  Distant Buildings          1840   \n",
        "\n",
        "                                         hsv_buckets  \n",
        "0  [10613, 20790, 32341, 62815, 906, 23, 16270, 3...  \n",
        "1  [36096, 5296, 592, 39341, 2431, 212, 10486, 26...  \n",
        "2  [34854, 11674, 64, 46446, 142, 4, 12457, 544, ...  \n",
        "3    [578, 6496, 57950, 65024, 0, 0, 0, 3780, 61244]  \n",
        "4  [52671, 514, 319, 52832, 657, 15, 11269, 829, ...  "
       ]
      }
     ],
     "prompt_number": 126
    },
    {
     "cell_type": "code",
     "collapsed": false,
     "input": [
      "df.date_painted.value_counts().sort_index().plot()"
     ],
     "language": "python",
     "metadata": {},
     "outputs": [
      {
       "metadata": {},
       "output_type": "pyout",
       "prompt_number": 152,
       "text": [
        "<matplotlib.axes._subplots.AxesSubplot at 0x18259a58>"
       ]
      },
      {
       "metadata": {},
       "output_type": "display_data",
       "png": "[encoded data removed]",
       "text": [
        "<matplotlib.figure.Figure at 0x18259ba8>"
       ]
      }
     ],
     "prompt_number": 152
    },
    {
     "cell_type": "code",
     "collapsed": false,
     "input": [
      "df[df['is_Turner']!=True].date_painted.value_counts().sort_index().plot()"
     ],
     "language": "python",
     "metadata": {},
     "outputs": [
      {
       "metadata": {},
       "output_type": "pyout",
       "prompt_number": 153,
       "text": [
        "<matplotlib.axes._subplots.AxesSubplot at 0x18719588>"
       ]
      },
      {
       "metadata": {},
       "output_type": "display_data",
       "png": "[encoded data removed]",
       "text": [
        "<matplotlib.figure.Figure at 0x1895fb38>"
       ]
      }
     ],
     "prompt_number": 153
    },
    {
     "cell_type": "code",
     "collapsed": false,
     "input": [
      "df2= df.groupby(['date_painted', 'is_Turner']).date_painted.count()\n",
      "df2.head(15)"
     ],
     "language": "python",
     "metadata": {},
     "outputs": [
      {
       "metadata": {},
       "output_type": "pyout",
       "prompt_number": 154,
       "text": [
        "date_painted  is_Turner\n",
        "1629          False        1\n",
        "1635          False        1\n",
        "1638          False        1\n",
        "1646          False        1\n",
        "1670          False        1\n",
        "1680          False        1\n",
        "1685          False        1\n",
        "1690          False        1\n",
        "1710          False        1\n",
        "1720          False        1\n",
        "1725          False        1\n",
        "1730          False        1\n",
        "1731          False        1\n",
        "1734          False        1\n",
        "1735          False        1\n",
        "Name: date_painted, dtype: int64"
       ]
      }
     ],
     "prompt_number": 154
    },
    {
     "cell_type": "code",
     "collapsed": false,
     "input": [
      "df2 = df2.unstack('is_Turner')\n",
      "decades = (df2.index/10)*10\n",
      "df2.groupby(decades).mean().plot()"
     ],
     "language": "python",
     "metadata": {},
     "outputs": [
      {
       "metadata": {},
       "output_type": "pyout",
       "prompt_number": 155,
       "text": [
        "<matplotlib.axes._subplots.AxesSubplot at 0x16029128>"
       ]
      },
      {
       "metadata": {},
       "output_type": "display_data",
       "png": "[encoded data removed]",
       "text": [
        "<matplotlib.figure.Figure at 0x1875b9b0>"
       ]
      }
     ],
     "prompt_number": 155
    },
    {
     "cell_type": "code",
     "collapsed": false,
     "input": [
      "import matplotlib.pyplot as plt\n",
      "\n",
      "comb = df['hsv_buckets'].mean()\n",
      "noturn = df[df['is_Turner']==False]['hsv_buckets'].mean()\n",
      "turn = df[df['is_Turner']==True]['hsv_buckets'].mean()\n",
      "\n",
      "ax = plt.subplot()\n",
      "ax.bar([i-0.2 for i in range(1,10)], comb, width=0.2,color='red')\n",
      "ax.bar(range(1,10), noturn, width=0.2, color='green')\n",
      "ax.bar([i+0.2 for i in range(1,10)], turn, width=0.2, color='blue')\n",
      "plt.show()"
     ],
     "language": "python",
     "metadata": {},
     "outputs": [
      {
       "metadata": {},
       "output_type": "display_data",
       "png": "[encoded data removed]",
       "text": [
        "<matplotlib.figure.Figure at 0x15816860>"
       ]
      }
     ],
     "prompt_number": 17
    },
    {
     "cell_type": "code",
     "collapsed": false,
     "input": [
      "df['rgb_wide_buckets'] = df['thumbnailUrl'].map(lambda x: rgb_histogram(get_image(x), 5))\n",
      "df['rgb_short_buckets'] = df['thumbnailUrl'].map(lambda x: rgb_histogram(get_image(x), 2))"
     ],
     "language": "python",
     "metadata": {},
     "outputs": [],
     "prompt_number": 18
    },
    {
     "cell_type": "code",
     "collapsed": false,
     "input": [
      "comb = df['rgb_wide_buckets'].mean()\n",
      "noturn = df[df['is_Turner']==False]['rgb_wide_buckets'].mean()\n",
      "turn = df[df['is_Turner']==True]['rgb_wide_buckets'].mean()\n",
      "\n",
      "print comb\n",
      "\n",
      "fig = plt.figure(figsize=(12,6))\n",
      "ax = plt.subplot()\n",
      "ax.bar([i-0.2 for i in range(1,16)], comb, width=0.2,color='red')\n",
      "ax.bar(range(1,16), noturn, width=0.2, color='green')\n",
      "ax.bar([i+0.2 for i in range(1,16)], turn, width=0.2, color='blue')\n",
      "plt.show()"
     ],
     "language": "python",
     "metadata": {},
     "outputs": [
      {
       "output_type": "stream",
       "stream": "stdout",
       "text": [
        "[  6024.625     7734.78125   8649.75      8955.03125  16291.8125    7498.25\n",
        "   8008.9375    8296.90625   9000.34375  14851.5625    8558.96875\n",
        "   9146.34375   9447.       10740.5       9763.1875 ]\n"
       ]
      },
      {
       "metadata": {},
       "output_type": "display_data",
       "png": "[encoded data removed]",
       "text": [
        "<matplotlib.figure.Figure at 0x15ef5eb8>"
       ]
      }
     ],
     "prompt_number": 19
    },
    {
     "cell_type": "code",
     "collapsed": false,
     "input": [
      "df['wide_hsv_buckets'] = df['thumbnailUrl'].map(lambda x: hsv_histogram(get_image(x), 5))"
     ],
     "language": "python",
     "metadata": {},
     "outputs": [],
     "prompt_number": 20
    },
    {
     "cell_type": "code",
     "collapsed": false,
     "input": [
      "comb = df['wide_hsv_buckets'].mean()\n",
      "noturn = df[df['is_Turner']==False]['wide_hsv_buckets'].mean()\n",
      "turn = df[df['is_Turner']==True]['wide_hsv_buckets'].mean()\n",
      "\n",
      "fig = plt.figure(figsize=(12,6))\n",
      "ax = plt.subplot()\n",
      "ax.bar([i-0.2 for i in range(1,16)], comb, width=0.2,color='red')\n",
      "ax.bar(range(1,16), noturn, width=0.2, color='green')\n",
      "ax.bar([i+0.2 for i in range(1,16)], turn, width=0.2, color='blue')\n",
      "plt.show()"
     ],
     "language": "python",
     "metadata": {},
     "outputs": [
      {
       "metadata": {},
       "output_type": "display_data",
       "png": "[encoded data removed]",
       "text": [
        "<matplotlib.figure.Figure at 0x15f5eb70>"
       ]
      }
     ],
     "prompt_number": 21
    },
    {
     "cell_type": "code",
     "collapsed": false,
     "input": [
      "def get_color_keys():\n",
      "    return range(8)\n",
      "\n",
      "def nearest_color(pixel):\n",
      "    r = pixel[0] > 127\n",
      "    g = pixel[1] > 127\n",
      "    b = pixel[2] > 127\n",
      "    \n",
      "    return int(r) + int(g)*2 + int(b)*4\n",
      "\n",
      "def color_mapping(img):\n",
      "    coldic = {k:0 for k in get_color_keys()}\n",
      "    for x in xrange(img.shape[0]):\n",
      "        for y in xrange(img.shape[1]):\n",
      "            coldic[nearest_color(img[x,y])] += 1\n",
      "    return coldic\n",
      "\n",
      "df['colour_maps'] = df['thumbnailUrl'].map(lambda x: color_mapping(get_image(x)))"
     ],
     "language": "python",
     "metadata": {},
     "outputs": [],
     "prompt_number": 149
    },
    {
     "cell_type": "code",
     "collapsed": false,
     "input": [],
     "language": "python",
     "metadata": {},
     "outputs": [],
     "prompt_number": 149
    },
    {
     "cell_type": "code",
     "collapsed": false,
     "input": [
      "def average_map_colors(coldics):\n",
      "    counter = collections.Counter()\n",
      "\n",
      "    for d in coldics: \n",
      "        counter.update(d)\n",
      "    \n",
      "    d = dict(counter)\n",
      "    \n",
      "    total = float(sum(d.values()))\n",
      "    \n",
      "    return {k: v/total for k,v in d.items()}\n",
      "\n",
      "df3 = df.groupby(['date_painted'])[['date_painted','colour_maps']]\n",
      "\n",
      "df4 = df3.apply(lambda x: average_map_colors(x.colour_maps))\n",
      "\n",
      "dic = df4.to_dict()"
     ],
     "language": "python",
     "metadata": {},
     "outputs": [],
     "prompt_number": 150
    },
    {
     "cell_type": "code",
     "collapsed": false,
     "input": [
      "cv_h = 150\n",
      "\n",
      "step = 50\n",
      "\n",
      "lo = min(dic.keys())\n",
      "nhlo = int(math.ceil(lo / float(step))) * step\n",
      "nhoff = nhlo-lo\n",
      "\n",
      "hi = max(dic.keys())\n",
      "cv_l = hi-lo+1\n",
      "huns = int(cv_l)/step\n",
      "\n",
      "canvas = np.ones((cv_l, cv_h,3))\n",
      "\n",
      "def get_color(n):\n",
      "    r = n % 2\n",
      "    g = (n / 2) % 2\n",
      "    b = (n / 4) % 2\n",
      "\n",
      "    return [v*0.8+0.1 for v in [r,g,b]]\n",
      "    \n",
      "#int(r) + int(g)*2 + int(b)*4\n",
      "\n",
      "def get_pixels_from_mapping(cols, cv_h):\n",
      "    row = np.zeros((cv_h,3))\n",
      "    \n",
      "    npixel = {k: cv_h*v for k,v in cols.items()}\n",
      "    \n",
      "    for k in npixel.keys():\n",
      "        if k != 0:\n",
      "            npixel[k] += npixel[k-1]\n",
      "    \n",
      "    current = 0\n",
      "    for i in xrange(cv_h):\n",
      "        if i > npixel[current]:\n",
      "            current += 1\n",
      "        row[i] = get_color(current)\n",
      "    \n",
      "    return row\n",
      "\n",
      "for k, v in dic.items():\n",
      "    canvas[k-lo] = get_pixels_from_mapping(v, cv_h)\n",
      "    \n",
      "finimg = canvas.transpose((1,0,2))\n",
      "\n",
      "figinches = 16\n",
      "plt.figure(figsize = (figinches,math.ceil(figinches*cv_h/cv_l)))\n",
      "plt.xticks([step*x+nhoff for x in range(huns)], [nhlo+x*step for x in range(huns)])\n",
      "imshow(finimg)"
     ],
     "language": "python",
     "metadata": {},
     "outputs": [
      {
       "metadata": {},
       "output_type": "display_data",
       "png": "[encoded data removed]",
       "text": [
        "<matplotlib.figure.Figure at 0x18f5fbe0>"
       ]
      }
     ],
     "prompt_number": 171
    },
    {
     "cell_type": "markdown",
     "metadata": {},
     "source": [
      "Part2: Predictive Model (40pts)\n",
      "----\n",
      "\n",
      "Use your knowledge of the data to build a predictive model. Suggested Python module to use here: `sklearn`.\n",
      "\n",
      "You can either predict missing values in the data, use the data to predict another data set, or use another data set to predict this data set, or, or, or...\n",
      "\n",
      "Grading will consider the complexity of the model, its performance, and the difficulty of the prediction task."
     ]
    },
    {
     "cell_type": "code",
     "collapsed": false,
     "input": [
      "def mediumOn(text):\n",
      " \n",
      "    #If there is nothing return NaN:\n",
      "    if len(text)==0:\n",
      "        return np.NaN, np.NaN\n",
      "   \n",
      "    if ' on ' in text:\n",
      "        text = text.lower()\n",
      "        parts = text.split(' on ')\n",
      "        partOne = parts[0].replace(' and ', ' , ')\n",
      "        partOne = partOne.replace(' paint', '')\n",
      "        partOne = partOne.replace( 'print', '')\n",
      "        partOne = partOne.split(',')\n",
      "        partOne = [x.strip() for x in partOne]\n",
      "        finalParts = partOne.append(parts[1])\n",
      "       \n",
      "        return set(partOne)\n",
      "       \n",
      "    else:\n",
      "        return set([]), ''\n",
      " \n",
      "def getMedium(dataframe):\n",
      "    df['Medium'] = df['medium'].map(mediumOn)\n",
      " \n",
      "getMedium(df)"
     ],
     "language": "python",
     "metadata": {},
     "outputs": [],
     "prompt_number": 81
    },
    {
     "cell_type": "markdown",
     "metadata": {},
     "source": [
      "Part3: Visualization (30pts)\n",
      "----\n",
      "\n",
      "Finally, visualize either the original data, the predictibve model, or both. Grading will take into account how informative and creative the visualization is. When in doubt, an informative visualization is worth more than a creative one!"
     ]
    },
    {
     "cell_type": "code",
     "collapsed": false,
     "input": [],
     "language": "python",
     "metadata": {},
     "outputs": []
    }
   ],
   "metadata": {}
  }
 ]
}