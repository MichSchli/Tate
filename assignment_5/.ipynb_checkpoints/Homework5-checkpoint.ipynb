{
 "metadata": {
  "name": "",
  "signature": "sha256:5822c0c00f1371d9727950100fca512988246f58487566c3f97208bba4006b0d"
 },
 "nbformat": 3,
 "nbformat_minor": 0,
 "worksheets": [
  {
   "cells": [
    {
     "cell_type": "markdown",
     "metadata": {},
     "source": [
      "Homework 5\n",
      "====\n",
      "\n",
      "The final homework is designed to let you use everything you have learned up to this point. You should select one of the data sets below and then perform the following three tasks: statistical analysis, building a predictive model, and visualization. \n",
      "\n",
      "Grading\n",
      "----\n",
      "There is no fixed form this time, but note that you need to fulfill all of the parts. Please also add a few lines at the beginning of your code to describe what you did and why. The homework is worth 100pts, you need at least 50 to have it counted.\n",
      "\n",
      "\n",
      "Co\u00f6peration\n",
      "----\n",
      "You may opt to work together with up to ***2*** other students. In that case, please enter the names of all authors in the code. The group only needs to submit one homework.\n",
      "However, group homeworks need to be more substantial in size and depth than individual homeworks.\n",
      "\n",
      "Data Sets\n",
      "----\n",
      "Select one of the following data sets. You are allowed to use as many additional data sets as you would like, but please make sure to document them.\n",
      "\n",
      "#### Tate Gallery Art Collection\n",
      "\n",
      "Meta-data on more than 70,000 artworks owned by the London gallery. Biographical information on some artists are provided as well. Files are in CSV and JSON format, and may be downloaded from the data set's [github repository](https://github.com/tategallery/collection).\n",
      "\n",
      "#### Million Song Dataset\n",
      "\n",
      "This dataset collects various aspects of one million songs, including meta-data about artists and charateristics of the audio.  It has also been linked up with lyrics through the musiXmatch dataset. \n",
      "\n",
      "The dataset itself is huge (280 GB), so we suggest you only work with the meta-data and lyrics parts. \n",
      "\n",
      "\n",
      "* (Main page for dataset)[http://labrosa.ee.columbia.edu/millionsong/]\n",
      "* (Data example)[http://labrosa.ee.columbia.edu/millionsong/pages/example-track-description]\n",
      "* (Description of lyrics dataset)[http://labrosa.ee.columbia.edu/millionsong/musixmatch#desc]\n",
      "\n",
      "\n",
      "#### Trustpilot Danish Reviews\n",
      "\n",
      "A complete record of the reviews posted on the Danish part of the Trustpilot user review homepage. The Danish site has more than 600,000 users, and includes demographic information (age, gender, place of living) about a large proportion of the them. \n",
      "\n",
      "* [Review and users](https://dl.dropboxusercontent.com/u/1423772/trustpilot_denmark_auto_gender.jsonl)\n",
      "* [Company data](https://dl.dropboxusercontent.com/u/1423772/trustpilot_company.jsonl)\n",
      "\n",
      "The dataset has the following fields for users, reviews and companies:\n",
      "\n",
      "**User** Name, ID, profile text, location (city and country), gender, year of birth.\n",
      "\n",
      "**Review** Title, text, rating (1--5), User ID, Company ID, Date and time of review\n",
      "\n",
      "**Company** Name, categories (e.g., electronics), number of ratings, description, address, location (city and country)\n",
      "\n",
      "You do NOT need to include these data sets in your submission, but indicate which one you used.\n"
     ]
    },
    {
     "cell_type": "code",
     "collapsed": false,
     "input": [
      "#Imports:\n",
      "%matplotlib inline\n",
      "\n",
      "import codecs\n",
      "import json\n",
      "import pandas as pd\n",
      "import numpy as np\n",
      "import collections\n",
      "import os\n",
      "import random\n",
      "import sklearn\n",
      "import re\n",
      "import math\n",
      "from skimage import io, color\n",
      "from skimage.io import imshow\n",
      "from sklearn.feature_extraction import DictVectorizer"
     ],
     "language": "python",
     "metadata": {},
     "outputs": [],
     "prompt_number": 104
    },
    {
     "cell_type": "markdown",
     "metadata": {},
     "source": [
      "Part1: Statistical Analysis (30pts)\n",
      "----\n",
      "\n",
      "Perform a statistical analysis of the data. Suggested Python module to use here: `pandas`.\n",
      "\n",
      "Some questions you should consider: \n",
      "* How can you best analyze the data?\n",
      "* How many instances are there, how are the values distributed? \n",
      "* Are there any outliers?\n",
      "\n",
      "Grading will consider how thorough the description is, and whether it makes sense for the data set."
     ]
    },
    {
     "cell_type": "code",
     "collapsed": false,
     "input": [
      "#Define a function to read in a JSON-file and return a dictionary:\n",
      "def JSONload(filepath):\n",
      "    with codecs.open(filepath, 'r', encoding='utf-8') as jsonfile:\n",
      "        return json.load(jsonfile)\n",
      "           \n",
      "#Test it:\n",
      "print JSONload('collection/artworks/a/000/a00001-1035.json')"
     ],
     "language": "python",
     "metadata": {},
     "outputs": [
      {
       "output_type": "stream",
       "stream": "stdout",
       "text": [
        "{u'inscription': None, u'classification': u'on paper, unique', u'height': u'419', u'thumbnailUrl': u'http://www.tate.org.uk/art/images/work/A/A00/A00001_8.jpg', u'id': 1035, u'acno': u'A00001', u'contributors': [{u'gender': u'Male', u'mda': u'Blake, Robert', u'birthYear': 1762, u'fc': u'Robert Blake', u'role': u'artist', u'startLetter': u'B', u'date': u'1762\\u20131787', u'id': 38, u'displayOrder': 1}], u'title': u'A Figure Bowing before a Seated Old Man with his Arm Outstretched in Benediction. Verso: Indecipherable Sketch', u'width': u'394', u'subjects': {u'children': [{u'children': [{u'children': [{u'id': 1050, u'name': u'arm/arms raised'}, {u'id': 272, u'name': u'kneeling'}, {u'id': 694, u'name': u'sitting'}], u'name': u'actions: postures and motions', u'id': 92}, {u'children': [{u'id': 195, u'name': u'man'}, {u'id': 1134, u'name': u'man, old'}], u'name': u'adults', u'id': 95}], u'name': u'people', u'id': 91}, {u'children': [{u'children': [{u'id': 5734, u'name': u'blessing'}], u'name': u'universal religious imagery', u'id': 5731}], u'name': u'religion and belief', u'id': 132}], u'name': u'subject', u'id': 1}, u'foreignTitle': None, u'units': u'mm', u'dateText': u'date not known', u'contributorCount': 1, u'medium': u'Watercolour, ink, chalk and graphite on paper. Verso: graphite on paper', u'catalogueGroup': {}, u'movementCount': 0, u'dimensions': u'support: 394 x 419 mm', u'thumbnailCopyright': None, u'creditLine': u'Presented by Mrs John Richmond 1922', u'url': u'http://www.tate.org.uk/art/artworks/blake-a-figure-bowing-before-a-seated-old-man-with-his-arm-outstretched-in-benediction-a00001', u'dateRange': None, u'all_artists': u'Robert Blake', u'acquisitionYear': 1922, u'depth': u'', u'groupTitle': None, u'subjectCount': 6}\n"
       ]
      }
     ],
     "prompt_number": 3
    },
    {
     "cell_type": "code",
     "collapsed": false,
     "input": [
      "#Define a function to flatten a dictionary:\n",
      "def flatten(d, parent_key=''):\n",
      "    items = {}\n",
      "    for k, v in d.items():\n",
      "        new_key = parent_key + \"_\"+k if parent_key else k\n",
      "        \n",
      "        if type(v) == type({}):\n",
      "            nk = k+\"_\"+unicode(v['id'])\n",
      "            items.update(flatten(v, nk))\n",
      "        elif type(v) == type([]):\n",
      "            for elem in v:\n",
      "                nk = parent_key + '_' + unicode(elem['id'])\n",
      "                \n",
      "                items.update(flatten(elem, nk))\n",
      "        else:\n",
      "            items[new_key] = unicode(v)\n",
      "    \n",
      "    return items\n",
      "    \n",
      "#Define a function to turn an art dictionary into a pandas frame:\n",
      "def getDataframe(dic, to_be_kept, is_artist=''):\n",
      "    #Memorize a potential artist:\n",
      "    a = False\n",
      "    if is_artist:\n",
      "        for c in dic['contributors']:\n",
      "            if is_artist in c['fc']:\n",
      "                a = True\n",
      "                break\n",
      "    \n",
      "    #First, we crop the dictionary:\n",
      "    to_be_cropped = list(set(dic.keys()) - set(to_be_kept))\n",
      "    for key in to_be_cropped:\n",
      "        if key in dic:\n",
      "            del dic[key]\n",
      "    \n",
      "    #We flatten the dictionary:\n",
      "    flat_dic = flatten(dic)\n",
      "    \n",
      "    #Add a potential artist:\n",
      "    if is_artist:\n",
      "        flat_dic['is_'+is_artist] = a\n",
      "        \n",
      "    #Then, we make a dictionary:\n",
      "    return pd.DataFrame(flat_dic, index=[0])\n",
      "    \n",
      "    \n",
      "td = getDataframe(JSONload('collection/artworks/a/000/a00001-1035.json'), ['title'], is_artist='Turner')\n",
      "\n",
      "print td"
     ],
     "language": "python",
     "metadata": {},
     "outputs": [
      {
       "output_type": "stream",
       "stream": "stdout",
       "text": [
        "  is_Turner                                              title\n",
        "0     False  A Figure Bowing before a Seated Old Man with h...\n"
       ]
      }
     ],
     "prompt_number": 4
    },
    {
     "cell_type": "code",
     "collapsed": false,
     "input": [
      "'''\n",
      "\n",
      "A set of functions to read in JSON-files from the recursive directory structure are defined here:\n",
      "\n",
      "'''\n",
      "\n",
      "#Define a function to get immediate successor directories:\n",
      "def get_immediate_subdirectories(a_dir):\n",
      "    return [name for name in os.listdir(a_dir)\n",
      "            if os.path.isdir(os.path.join(a_dir, name))]\n",
      "\n",
      "#Define a function to get JSON files:\n",
      "def get_json_files(a_dir):\n",
      "    return [name for name in os.listdir(a_dir) if (os.path.isfile(os.path.join(a_dir, name)) and name.endswith('.json'))]\n",
      "\n",
      "\n",
      "#Define a function to recursively build a list of JSON files:\n",
      "def build_dataset(path):\n",
      "    items = []\n",
      "    \n",
      "    #Get files in current folder:\n",
      "    for jsonfile in get_json_files(path):\n",
      "        items.append(path + '/'+jsonfile)\n",
      "    \n",
      "    #Get files in subfolders:\n",
      "    for subdir in get_immediate_subdirectories(path):\n",
      "        items.extend(build_dataset( path + '/'+subdir))\n",
      "        \n",
      "    return items\n",
      "        \n",
      "\n",
      "print len(build_dataset(\"collection/artworks/a/000\"))"
     ],
     "language": "python",
     "metadata": {},
     "outputs": [
      {
       "output_type": "stream",
       "stream": "stdout",
       "text": [
        "99\n"
       ]
      }
     ],
     "prompt_number": 5
    },
    {
     "cell_type": "code",
     "collapsed": false,
     "input": [
      "#Put everything - and i do mean everything - into an array for easy sampling:\n",
      "data = build_dataset(\"collection/artworks\")"
     ],
     "language": "python",
     "metadata": {},
     "outputs": [],
     "prompt_number": 6
    },
    {
     "cell_type": "code",
     "collapsed": false,
     "input": [
      "#We don't want to test on the entire dataset, but the files are NOT independent of the folder structure:\n",
      "jsonpaths = random.sample(data, 50)"
     ],
     "language": "python",
     "metadata": {},
     "outputs": [],
     "prompt_number": 7
    },
    {
     "cell_type": "code",
     "collapsed": false,
     "input": [
      "df = pd.DataFrame({})\n",
      "\n",
      "\n",
      "for path in jsonpaths:\n",
      "    df = df.append(getDataframe(JSONload(path), ['title','id', 'thumbnailUrl', 'acquisitionYear', 'dateText', 'medium'], is_artist='Turner'), ignore_index = True)\n",
      "\n",
      "df.head()"
     ],
     "language": "python",
     "metadata": {},
     "outputs": [
      {
       "html": [
        "<div style=\"max-height:1000px;max-width:1500px;overflow:auto;\">\n",
        "<table border=\"1\" class=\"dataframe\">\n",
        "  <thead>\n",
        "    <tr style=\"text-align: right;\">\n",
        "      <th></th>\n",
        "      <th>acquisitionYear</th>\n",
        "      <th>dateText</th>\n",
        "      <th>id</th>\n",
        "      <th>is_Turner</th>\n",
        "      <th>medium</th>\n",
        "      <th>thumbnailUrl</th>\n",
        "      <th>title</th>\n",
        "    </tr>\n",
        "  </thead>\n",
        "  <tbody>\n",
        "    <tr>\n",
        "      <th>0</th>\n",
        "      <td> 1997</td>\n",
        "      <td> date not known</td>\n",
        "      <td> 23584</td>\n",
        "      <td> False</td>\n",
        "      <td> Graphite and watercolour on paper</td>\n",
        "      <td> http://www.tate.org.uk/art/images/work/T/T08/T...</td>\n",
        "      <td>           An Italian Hill Town</td>\n",
        "    </tr>\n",
        "    <tr>\n",
        "      <th>1</th>\n",
        "      <td> 1856</td>\n",
        "      <td>           1796</td>\n",
        "      <td> 28189</td>\n",
        "      <td>  True</td>\n",
        "      <td>                              None</td>\n",
        "      <td>                                              None</td>\n",
        "      <td>                          Blank</td>\n",
        "    </tr>\n",
        "    <tr>\n",
        "      <th>2</th>\n",
        "      <td> 1856</td>\n",
        "      <td>           1828</td>\n",
        "      <td> 48617</td>\n",
        "      <td>  True</td>\n",
        "      <td>                 Graphite on paper</td>\n",
        "      <td> http://www.tate.org.uk/art/images/work/D/D21/D...</td>\n",
        "      <td>            St Raphael [Turner]</td>\n",
        "    </tr>\n",
        "    <tr>\n",
        "      <th>3</th>\n",
        "      <td> 1913</td>\n",
        "      <td> exhibited 1872</td>\n",
        "      <td>  8559</td>\n",
        "      <td> False</td>\n",
        "      <td>               Oil paint on canvas</td>\n",
        "      <td>                                              None</td>\n",
        "      <td>                    The Retreat</td>\n",
        "    </tr>\n",
        "    <tr>\n",
        "      <th>4</th>\n",
        "      <td> 2007</td>\n",
        "      <td>           1940</td>\n",
        "      <td> 90778</td>\n",
        "      <td> False</td>\n",
        "      <td>              Oil paint on plywood</td>\n",
        "      <td> http://www.tate.org.uk/art/images/work/T/T12/T...</td>\n",
        "      <td> Snow in the Harbour of St Ives</td>\n",
        "    </tr>\n",
        "  </tbody>\n",
        "</table>\n",
        "</div>"
       ],
       "metadata": {},
       "output_type": "pyout",
       "prompt_number": 8,
       "text": [
        "  acquisitionYear        dateText     id is_Turner  \\\n",
        "0            1997  date not known  23584     False   \n",
        "1            1856            1796  28189      True   \n",
        "2            1856            1828  48617      True   \n",
        "3            1913  exhibited 1872   8559     False   \n",
        "4            2007            1940  90778     False   \n",
        "\n",
        "                              medium  \\\n",
        "0  Graphite and watercolour on paper   \n",
        "1                               None   \n",
        "2                  Graphite on paper   \n",
        "3                Oil paint on canvas   \n",
        "4               Oil paint on plywood   \n",
        "\n",
        "                                        thumbnailUrl  \\\n",
        "0  http://www.tate.org.uk/art/images/work/T/T08/T...   \n",
        "1                                               None   \n",
        "2  http://www.tate.org.uk/art/images/work/D/D21/D...   \n",
        "3                                               None   \n",
        "4  http://www.tate.org.uk/art/images/work/T/T12/T...   \n",
        "\n",
        "                            title  \n",
        "0            An Italian Hill Town  \n",
        "1                           Blank  \n",
        "2             St Raphael [Turner]  \n",
        "3                     The Retreat  \n",
        "4  Snow in the Harbour of St Ives  "
       ]
      }
     ],
     "prompt_number": 8
    },
    {
     "cell_type": "code",
     "collapsed": false,
     "input": [
      "#Define a function to map a dateText to a date:\n",
      "def mapDate(text):\n",
      "    ns = re.findall(r'\\b\\d+\\b', text)\n",
      "    \n",
      "    #If there is no year return NaN:\n",
      "    if len(ns)==0:\n",
      "        return np.NaN\n",
      "    \n",
      "    #If there is a single year return that:\n",
      "    elif len(ns)==1:\n",
      "        return int(ns[0])\n",
      "    \n",
      "    #If a range of years has been given, find the average:\n",
      "    #Note that if some moron wrote 1899-01, we interpret it as 1899-1801, not 1901\n",
      "    else:\n",
      "        chars_needed = len(ns[0])-len(ns[1])\n",
      "        ns[1] = int(ns[0][:chars_needed] + ns[1])\n",
      "        ns[0] = int(ns[0])\n",
      "    \n",
      "        return (ns[0]+ns[1])/2\n",
      "    \n",
      "#Map all dateTexts to dates:\n",
      "df['date_painted'] = df['dateText'].map(lambda x: mapDate(x))\n",
      "df = df.drop('dateText',1)\n",
      "\n",
      "#Drop the rows with no thumbnail or no year:\n",
      "df = df[df['thumbnailUrl'] != 'None']\n",
      "df = df[df['thumbnailUrl'] != '[blank]']\n",
      "df = df[df['medium'] != 'None']\n",
      "df = df[np.isfinite(df['date_painted'])]\n",
      "\n",
      "df = df.reset_index(drop=True)\n",
      "\n",
      "#Ensure that everything went okay:\n",
      "df.head()"
     ],
     "language": "python",
     "metadata": {},
     "outputs": [
      {
       "ename": "KeyError",
       "evalue": "'dateText'",
       "output_type": "pyerr",
       "traceback": [
        "\u001b[1;31m---------------------------------------------------------------------------\u001b[0m\n\u001b[1;31mKeyError\u001b[0m                                  Traceback (most recent call last)",
        "\u001b[1;32m<ipython-input-33-8197ee606a87>\u001b[0m in \u001b[0;36m<module>\u001b[1;34m()\u001b[0m\n\u001b[0;32m     21\u001b[0m \u001b[1;33m\u001b[0m\u001b[0m\n\u001b[0;32m     22\u001b[0m \u001b[1;31m#Map all dateTexts to dates:\u001b[0m\u001b[1;33m\u001b[0m\u001b[1;33m\u001b[0m\u001b[0m\n\u001b[1;32m---> 23\u001b[1;33m \u001b[0mdf\u001b[0m\u001b[1;33m[\u001b[0m\u001b[1;34m'date_painted'\u001b[0m\u001b[1;33m]\u001b[0m \u001b[1;33m=\u001b[0m \u001b[0mdf\u001b[0m\u001b[1;33m[\u001b[0m\u001b[1;34m'dateText'\u001b[0m\u001b[1;33m]\u001b[0m\u001b[1;33m.\u001b[0m\u001b[0mmap\u001b[0m\u001b[1;33m(\u001b[0m\u001b[1;32mlambda\u001b[0m \u001b[0mx\u001b[0m\u001b[1;33m:\u001b[0m \u001b[0mmapDate\u001b[0m\u001b[1;33m(\u001b[0m\u001b[0mx\u001b[0m\u001b[1;33m)\u001b[0m\u001b[1;33m)\u001b[0m\u001b[1;33m\u001b[0m\u001b[0m\n\u001b[0m\u001b[0;32m     24\u001b[0m \u001b[0mdf\u001b[0m \u001b[1;33m=\u001b[0m \u001b[0mdf\u001b[0m\u001b[1;33m.\u001b[0m\u001b[0mdrop\u001b[0m\u001b[1;33m(\u001b[0m\u001b[1;34m'dateText'\u001b[0m\u001b[1;33m,\u001b[0m\u001b[1;36m1\u001b[0m\u001b[1;33m)\u001b[0m\u001b[1;33m\u001b[0m\u001b[0m\n\u001b[0;32m     25\u001b[0m \u001b[1;33m\u001b[0m\u001b[0m\n",
        "\u001b[1;32mC:\\Anaconda\\lib\\site-packages\\pandas\\core\\frame.pyc\u001b[0m in \u001b[0;36m__getitem__\u001b[1;34m(self, key)\u001b[0m\n\u001b[0;32m   1676\u001b[0m             \u001b[1;32mreturn\u001b[0m \u001b[0mself\u001b[0m\u001b[1;33m.\u001b[0m\u001b[0m_getitem_multilevel\u001b[0m\u001b[1;33m(\u001b[0m\u001b[0mkey\u001b[0m\u001b[1;33m)\u001b[0m\u001b[1;33m\u001b[0m\u001b[0m\n\u001b[0;32m   1677\u001b[0m         \u001b[1;32melse\u001b[0m\u001b[1;33m:\u001b[0m\u001b[1;33m\u001b[0m\u001b[0m\n\u001b[1;32m-> 1678\u001b[1;33m             \u001b[1;32mreturn\u001b[0m \u001b[0mself\u001b[0m\u001b[1;33m.\u001b[0m\u001b[0m_getitem_column\u001b[0m\u001b[1;33m(\u001b[0m\u001b[0mkey\u001b[0m\u001b[1;33m)\u001b[0m\u001b[1;33m\u001b[0m\u001b[0m\n\u001b[0m\u001b[0;32m   1679\u001b[0m \u001b[1;33m\u001b[0m\u001b[0m\n\u001b[0;32m   1680\u001b[0m     \u001b[1;32mdef\u001b[0m \u001b[0m_getitem_column\u001b[0m\u001b[1;33m(\u001b[0m\u001b[0mself\u001b[0m\u001b[1;33m,\u001b[0m \u001b[0mkey\u001b[0m\u001b[1;33m)\u001b[0m\u001b[1;33m:\u001b[0m\u001b[1;33m\u001b[0m\u001b[0m\n",
        "\u001b[1;32mC:\\Anaconda\\lib\\site-packages\\pandas\\core\\frame.pyc\u001b[0m in \u001b[0;36m_getitem_column\u001b[1;34m(self, key)\u001b[0m\n\u001b[0;32m   1683\u001b[0m         \u001b[1;31m# get column\u001b[0m\u001b[1;33m\u001b[0m\u001b[1;33m\u001b[0m\u001b[0m\n\u001b[0;32m   1684\u001b[0m         \u001b[1;32mif\u001b[0m \u001b[0mself\u001b[0m\u001b[1;33m.\u001b[0m\u001b[0mcolumns\u001b[0m\u001b[1;33m.\u001b[0m\u001b[0mis_unique\u001b[0m\u001b[1;33m:\u001b[0m\u001b[1;33m\u001b[0m\u001b[0m\n\u001b[1;32m-> 1685\u001b[1;33m             \u001b[1;32mreturn\u001b[0m \u001b[0mself\u001b[0m\u001b[1;33m.\u001b[0m\u001b[0m_get_item_cache\u001b[0m\u001b[1;33m(\u001b[0m\u001b[0mkey\u001b[0m\u001b[1;33m)\u001b[0m\u001b[1;33m\u001b[0m\u001b[0m\n\u001b[0m\u001b[0;32m   1686\u001b[0m \u001b[1;33m\u001b[0m\u001b[0m\n\u001b[0;32m   1687\u001b[0m         \u001b[1;31m# duplicate columns & possible reduce dimensionaility\u001b[0m\u001b[1;33m\u001b[0m\u001b[1;33m\u001b[0m\u001b[0m\n",
        "\u001b[1;32mC:\\Anaconda\\lib\\site-packages\\pandas\\core\\generic.pyc\u001b[0m in \u001b[0;36m_get_item_cache\u001b[1;34m(self, item)\u001b[0m\n\u001b[0;32m   1050\u001b[0m         \u001b[0mres\u001b[0m \u001b[1;33m=\u001b[0m \u001b[0mcache\u001b[0m\u001b[1;33m.\u001b[0m\u001b[0mget\u001b[0m\u001b[1;33m(\u001b[0m\u001b[0mitem\u001b[0m\u001b[1;33m)\u001b[0m\u001b[1;33m\u001b[0m\u001b[0m\n\u001b[0;32m   1051\u001b[0m         \u001b[1;32mif\u001b[0m \u001b[0mres\u001b[0m \u001b[1;32mis\u001b[0m \u001b[0mNone\u001b[0m\u001b[1;33m:\u001b[0m\u001b[1;33m\u001b[0m\u001b[0m\n\u001b[1;32m-> 1052\u001b[1;33m             \u001b[0mvalues\u001b[0m \u001b[1;33m=\u001b[0m \u001b[0mself\u001b[0m\u001b[1;33m.\u001b[0m\u001b[0m_data\u001b[0m\u001b[1;33m.\u001b[0m\u001b[0mget\u001b[0m\u001b[1;33m(\u001b[0m\u001b[0mitem\u001b[0m\u001b[1;33m)\u001b[0m\u001b[1;33m\u001b[0m\u001b[0m\n\u001b[0m\u001b[0;32m   1053\u001b[0m             \u001b[0mres\u001b[0m \u001b[1;33m=\u001b[0m \u001b[0mself\u001b[0m\u001b[1;33m.\u001b[0m\u001b[0m_box_item_values\u001b[0m\u001b[1;33m(\u001b[0m\u001b[0mitem\u001b[0m\u001b[1;33m,\u001b[0m \u001b[0mvalues\u001b[0m\u001b[1;33m)\u001b[0m\u001b[1;33m\u001b[0m\u001b[0m\n\u001b[0;32m   1054\u001b[0m             \u001b[0mcache\u001b[0m\u001b[1;33m[\u001b[0m\u001b[0mitem\u001b[0m\u001b[1;33m]\u001b[0m \u001b[1;33m=\u001b[0m \u001b[0mres\u001b[0m\u001b[1;33m\u001b[0m\u001b[0m\n",
        "\u001b[1;32mC:\\Anaconda\\lib\\site-packages\\pandas\\core\\internals.pyc\u001b[0m in \u001b[0;36mget\u001b[1;34m(self, item, fastpath)\u001b[0m\n\u001b[0;32m   2563\u001b[0m \u001b[1;33m\u001b[0m\u001b[0m\n\u001b[0;32m   2564\u001b[0m             \u001b[1;32mif\u001b[0m \u001b[1;32mnot\u001b[0m \u001b[0misnull\u001b[0m\u001b[1;33m(\u001b[0m\u001b[0mitem\u001b[0m\u001b[1;33m)\u001b[0m\u001b[1;33m:\u001b[0m\u001b[1;33m\u001b[0m\u001b[0m\n\u001b[1;32m-> 2565\u001b[1;33m                 \u001b[0mloc\u001b[0m \u001b[1;33m=\u001b[0m \u001b[0mself\u001b[0m\u001b[1;33m.\u001b[0m\u001b[0mitems\u001b[0m\u001b[1;33m.\u001b[0m\u001b[0mget_loc\u001b[0m\u001b[1;33m(\u001b[0m\u001b[0mitem\u001b[0m\u001b[1;33m)\u001b[0m\u001b[1;33m\u001b[0m\u001b[0m\n\u001b[0m\u001b[0;32m   2566\u001b[0m             \u001b[1;32melse\u001b[0m\u001b[1;33m:\u001b[0m\u001b[1;33m\u001b[0m\u001b[0m\n\u001b[0;32m   2567\u001b[0m                 \u001b[0mindexer\u001b[0m \u001b[1;33m=\u001b[0m \u001b[0mnp\u001b[0m\u001b[1;33m.\u001b[0m\u001b[0marange\u001b[0m\u001b[1;33m(\u001b[0m\u001b[0mlen\u001b[0m\u001b[1;33m(\u001b[0m\u001b[0mself\u001b[0m\u001b[1;33m.\u001b[0m\u001b[0mitems\u001b[0m\u001b[1;33m)\u001b[0m\u001b[1;33m)\u001b[0m\u001b[1;33m[\u001b[0m\u001b[0misnull\u001b[0m\u001b[1;33m(\u001b[0m\u001b[0mself\u001b[0m\u001b[1;33m.\u001b[0m\u001b[0mitems\u001b[0m\u001b[1;33m)\u001b[0m\u001b[1;33m]\u001b[0m\u001b[1;33m\u001b[0m\u001b[0m\n",
        "\u001b[1;32mC:\\Anaconda\\lib\\site-packages\\pandas\\core\\index.pyc\u001b[0m in \u001b[0;36mget_loc\u001b[1;34m(self, key)\u001b[0m\n\u001b[0;32m   1179\u001b[0m         \u001b[0mloc\u001b[0m \u001b[1;33m:\u001b[0m \u001b[0mint\u001b[0m \u001b[1;32mif\u001b[0m \u001b[0munique\u001b[0m \u001b[0mindex\u001b[0m\u001b[1;33m,\u001b[0m \u001b[0mpossibly\u001b[0m \u001b[0mslice\u001b[0m \u001b[1;32mor\u001b[0m \u001b[0mmask\u001b[0m \u001b[1;32mif\u001b[0m \u001b[1;32mnot\u001b[0m\u001b[1;33m\u001b[0m\u001b[0m\n\u001b[0;32m   1180\u001b[0m         \"\"\"\n\u001b[1;32m-> 1181\u001b[1;33m         \u001b[1;32mreturn\u001b[0m \u001b[0mself\u001b[0m\u001b[1;33m.\u001b[0m\u001b[0m_engine\u001b[0m\u001b[1;33m.\u001b[0m\u001b[0mget_loc\u001b[0m\u001b[1;33m(\u001b[0m\u001b[0m_values_from_object\u001b[0m\u001b[1;33m(\u001b[0m\u001b[0mkey\u001b[0m\u001b[1;33m)\u001b[0m\u001b[1;33m)\u001b[0m\u001b[1;33m\u001b[0m\u001b[0m\n\u001b[0m\u001b[0;32m   1182\u001b[0m \u001b[1;33m\u001b[0m\u001b[0m\n\u001b[0;32m   1183\u001b[0m     \u001b[1;32mdef\u001b[0m \u001b[0mget_value\u001b[0m\u001b[1;33m(\u001b[0m\u001b[0mself\u001b[0m\u001b[1;33m,\u001b[0m \u001b[0mseries\u001b[0m\u001b[1;33m,\u001b[0m \u001b[0mkey\u001b[0m\u001b[1;33m)\u001b[0m\u001b[1;33m:\u001b[0m\u001b[1;33m\u001b[0m\u001b[0m\n",
        "\u001b[1;32mC:\\Anaconda\\lib\\site-packages\\pandas\\index.pyd\u001b[0m in \u001b[0;36mpandas.index.IndexEngine.get_loc (pandas\\index.c:3656)\u001b[1;34m()\u001b[0m\n",
        "\u001b[1;32mC:\\Anaconda\\lib\\site-packages\\pandas\\index.pyd\u001b[0m in \u001b[0;36mpandas.index.IndexEngine.get_loc (pandas\\index.c:3534)\u001b[1;34m()\u001b[0m\n",
        "\u001b[1;32mC:\\Anaconda\\lib\\site-packages\\pandas\\hashtable.pyd\u001b[0m in \u001b[0;36mpandas.hashtable.PyObjectHashTable.get_item (pandas\\hashtable.c:11911)\u001b[1;34m()\u001b[0m\n",
        "\u001b[1;32mC:\\Anaconda\\lib\\site-packages\\pandas\\hashtable.pyd\u001b[0m in \u001b[0;36mpandas.hashtable.PyObjectHashTable.get_item (pandas\\hashtable.c:11864)\u001b[1;34m()\u001b[0m\n",
        "\u001b[1;31mKeyError\u001b[0m: 'dateText'"
       ]
      }
     ],
     "prompt_number": 33
    },
    {
     "cell_type": "code",
     "collapsed": false,
     "input": [
      "#Define a function to get a picture from an url:\n",
      "def get_image(url):\n",
      "    img = io.imread(url, as_grey = False)\n",
      "    if not len(img.shape)==3:\n",
      "        return color.gray2rgb(img)\n",
      "    return img\n",
      "\n",
      "#Define an hsv-histogram function:\n",
      "def hsv_histogram(image_rgb, b, w=[1,1,1]):\n",
      "    hsv_img = color.rgb2hsv(image_rgb)\n",
      "    h_histogram = np.histogram(hsv_img[:,:,0], bins=[x/float(b) for x in range(0,b+1)])[0]    \n",
      "    s_histogram = np.histogram(hsv_img[:,:,1], bins=[x/float(b) for x in range(0,b+1)])[0]\n",
      "    v_histogram = np.histogram(hsv_img[:,:,2], bins=[x/float(b) for x in range(0,b+1)])[0]\n",
      "    \n",
      "    return np.concatenate((h_histogram*w[0], s_histogram*w[1], v_histogram*w[2]))\n",
      "\n",
      "def rgb_histogram(image_rgb, b, w=[1,1,1]):\n",
      "    image_rgb = image_rgb/255.0\n",
      "    \n",
      "    r_histogram = np.histogram(image_rgb[:,:,0], bins=[x/float(b) for x in range(0,b+1)])[0]    \n",
      "    g_histogram = np.histogram(image_rgb[:,:,1], bins=[x/float(b) for x in range(0,b+1)])[0]\n",
      "    b_histogram = np.histogram(image_rgb[:,:,2], bins=[x/float(b) for x in range(0,b+1)])[0]\n",
      "    \n",
      "    return np.concatenate((r_histogram*w[0], g_histogram*w[1], b_histogram*w[2]))\n",
      "\n",
      "\n",
      "img = get_image(df.ix[0, 'thumbnailUrl'])\n",
      "\n",
      "print rgb_histogram(img, 3)\n",
      "\n",
      "imshow(img)"
     ],
     "language": "python",
     "metadata": {},
     "outputs": [
      {
       "output_type": "stream",
       "stream": "stdout",
       "text": [
        "[ 9072  1771 33189  9178  2673 32181  9726  5201 29105]\n"
       ]
      },
      {
       "metadata": {},
       "output_type": "display_data",
       "png": "[encoded data removed]",
       "text": [
        "<matplotlib.figure.Figure at 0xbf11dd8>"
       ]
      }
     ],
     "prompt_number": 10
    },
    {
     "cell_type": "code",
     "collapsed": false,
     "input": [
      "def mapThumbnail(url):\n",
      "    return hsv_histogram(get_image(url), 3)\n",
      "\n",
      "df['hsv_buckets'] = df['thumbnailUrl'].map(lambda x: mapThumbnail(x))"
     ],
     "language": "python",
     "metadata": {},
     "outputs": [],
     "prompt_number": 11
    },
    {
     "cell_type": "code",
     "collapsed": false,
     "input": [
      "df.head()"
     ],
     "language": "python",
     "metadata": {},
     "outputs": [
      {
       "html": [
        "<div style=\"max-height:1000px;max-width:1500px;overflow:auto;\">\n",
        "<table border=\"1\" class=\"dataframe\">\n",
        "  <thead>\n",
        "    <tr style=\"text-align: right;\">\n",
        "      <th></th>\n",
        "      <th>acquisitionYear</th>\n",
        "      <th>id</th>\n",
        "      <th>is_Turner</th>\n",
        "      <th>medium</th>\n",
        "      <th>thumbnailUrl</th>\n",
        "      <th>title</th>\n",
        "      <th>date_painted</th>\n",
        "      <th>hsv_buckets</th>\n",
        "    </tr>\n",
        "  </thead>\n",
        "  <tbody>\n",
        "    <tr>\n",
        "      <th>0</th>\n",
        "      <td> 1856</td>\n",
        "      <td> 48617</td>\n",
        "      <td>  True</td>\n",
        "      <td>       Graphite on paper</td>\n",
        "      <td> http://www.tate.org.uk/art/images/work/D/D21/D...</td>\n",
        "      <td>            St Raphael [Turner]</td>\n",
        "      <td> 1828</td>\n",
        "      <td> [38791, 4341, 900, 41234, 2450, 348, 9072, 177...</td>\n",
        "    </tr>\n",
        "    <tr>\n",
        "      <th>1</th>\n",
        "      <td> 2007</td>\n",
        "      <td> 90778</td>\n",
        "      <td> False</td>\n",
        "      <td>    Oil paint on plywood</td>\n",
        "      <td> http://www.tate.org.uk/art/images/work/T/T12/T...</td>\n",
        "      <td> Snow in the Harbour of St Ives</td>\n",
        "      <td> 1940</td>\n",
        "      <td> [44494, 1166, 8612, 50196, 3273, 803, 10814, 2...</td>\n",
        "    </tr>\n",
        "    <tr>\n",
        "      <th>2</th>\n",
        "      <td> 1931</td>\n",
        "      <td> 12714</td>\n",
        "      <td> False</td>\n",
        "      <td>   Bronze on marble base</td>\n",
        "      <td> http://www.tate.org.uk/art/images/work/N/N04/N...</td>\n",
        "      <td>                         Balzac</td>\n",
        "      <td> 1892</td>\n",
        "      <td> [33737, 4083, 1860, 35148, 4530, 2, 6996, 1129...</td>\n",
        "    </tr>\n",
        "    <tr>\n",
        "      <th>3</th>\n",
        "      <td> 1970</td>\n",
        "      <td> 13211</td>\n",
        "      <td> False</td>\n",
        "      <td>       Plastic and glass</td>\n",
        "      <td> http://www.tate.org.uk/art/images/work/T/T01/T...</td>\n",
        "      <td>                        Agrippa</td>\n",
        "      <td> 1964</td>\n",
        "      <td> [19948, 17690, 27642, 63735, 1545, 0, 667, 207...</td>\n",
        "    </tr>\n",
        "    <tr>\n",
        "      <th>4</th>\n",
        "      <td> 1986</td>\n",
        "      <td> 15209</td>\n",
        "      <td>  True</td>\n",
        "      <td> Line engraving on paper</td>\n",
        "      <td> http://www.tate.org.uk/art/images/work/T/T04/T...</td>\n",
        "      <td>     Kilgarren Castle, Pembroke</td>\n",
        "      <td> 1829</td>\n",
        "      <td> [47783, 0, 89, 47396, 449, 27, 14368, 16543, 1...</td>\n",
        "    </tr>\n",
        "  </tbody>\n",
        "</table>\n",
        "</div>"
       ],
       "metadata": {},
       "output_type": "pyout",
       "prompt_number": 12,
       "text": [
        "  acquisitionYear     id is_Turner                   medium  \\\n",
        "0            1856  48617      True        Graphite on paper   \n",
        "1            2007  90778     False     Oil paint on plywood   \n",
        "2            1931  12714     False    Bronze on marble base   \n",
        "3            1970  13211     False        Plastic and glass   \n",
        "4            1986  15209      True  Line engraving on paper   \n",
        "\n",
        "                                        thumbnailUrl  \\\n",
        "0  http://www.tate.org.uk/art/images/work/D/D21/D...   \n",
        "1  http://www.tate.org.uk/art/images/work/T/T12/T...   \n",
        "2  http://www.tate.org.uk/art/images/work/N/N04/N...   \n",
        "3  http://www.tate.org.uk/art/images/work/T/T01/T...   \n",
        "4  http://www.tate.org.uk/art/images/work/T/T04/T...   \n",
        "\n",
        "                            title  date_painted  \\\n",
        "0             St Raphael [Turner]          1828   \n",
        "1  Snow in the Harbour of St Ives          1940   \n",
        "2                          Balzac          1892   \n",
        "3                         Agrippa          1964   \n",
        "4      Kilgarren Castle, Pembroke          1829   \n",
        "\n",
        "                                         hsv_buckets  \n",
        "0  [38791, 4341, 900, 41234, 2450, 348, 9072, 177...  \n",
        "1  [44494, 1166, 8612, 50196, 3273, 803, 10814, 2...  \n",
        "2  [33737, 4083, 1860, 35148, 4530, 2, 6996, 1129...  \n",
        "3  [19948, 17690, 27642, 63735, 1545, 0, 667, 207...  \n",
        "4  [47783, 0, 89, 47396, 449, 27, 14368, 16543, 1...  "
       ]
      }
     ],
     "prompt_number": 12
    },
    {
     "cell_type": "code",
     "collapsed": false,
     "input": [
      "df.date_painted.value_counts().sort_index().plot()"
     ],
     "language": "python",
     "metadata": {},
     "outputs": [
      {
       "metadata": {},
       "output_type": "pyout",
       "prompt_number": 13,
       "text": [
        "<matplotlib.axes._subplots.AxesSubplot at 0x15705470>"
       ]
      },
      {
       "metadata": {},
       "output_type": "display_data",
       "png": "[encoded data removed]",
       "text": [
        "<matplotlib.figure.Figure at 0x15711c18>"
       ]
      }
     ],
     "prompt_number": 13
    },
    {
     "cell_type": "code",
     "collapsed": false,
     "input": [
      "df[df['is_Turner']!=True].date_painted.value_counts().sort_index().plot()"
     ],
     "language": "python",
     "metadata": {},
     "outputs": [
      {
       "metadata": {},
       "output_type": "pyout",
       "prompt_number": 14,
       "text": [
        "<matplotlib.axes._subplots.AxesSubplot at 0x15721b38>"
       ]
      },
      {
       "metadata": {},
       "output_type": "display_data",
       "png": "[encoded data removed]",
       "text": [
        "<matplotlib.figure.Figure at 0x158f1c88>"
       ]
      }
     ],
     "prompt_number": 14
    },
    {
     "cell_type": "code",
     "collapsed": false,
     "input": [
      "df2= df.groupby(['date_painted', 'is_Turner']).date_painted.count()\n",
      "df2.head(15)"
     ],
     "language": "python",
     "metadata": {},
     "outputs": [
      {
       "metadata": {},
       "output_type": "pyout",
       "prompt_number": 15,
       "text": [
        "date_painted  is_Turner\n",
        "1793          False        1\n",
        "              True         1\n",
        "1795          False        1\n",
        "1805          True         1\n",
        "1809          True         1\n",
        "1810          True         1\n",
        "1813          True         1\n",
        "1816          True         1\n",
        "1818          True         1\n",
        "1819          True         2\n",
        "1823          True         1\n",
        "1825          True         1\n",
        "1827          True         2\n",
        "1828          True         1\n",
        "1829          True         1\n",
        "Name: date_painted, dtype: int64"
       ]
      }
     ],
     "prompt_number": 15
    },
    {
     "cell_type": "code",
     "collapsed": false,
     "input": [
      "df2 = df2.unstack('is_Turner')\n",
      "decades = (df2.index/10)*10\n",
      "df2.groupby(decades).mean().plot()"
     ],
     "language": "python",
     "metadata": {},
     "outputs": [
      {
       "metadata": {},
       "output_type": "pyout",
       "prompt_number": 16,
       "text": [
        "<matplotlib.axes._subplots.AxesSubplot at 0x159459e8>"
       ]
      },
      {
       "metadata": {},
       "output_type": "display_data",
       "png": "[encoded data removed]",
       "text": [
        "<matplotlib.figure.Figure at 0x1594f9b0>"
       ]
      }
     ],
     "prompt_number": 16
    },
    {
     "cell_type": "code",
     "collapsed": false,
     "input": [
      "import matplotlib.pyplot as plt\n",
      "\n",
      "comb = df['hsv_buckets'].mean()\n",
      "noturn = df[df['is_Turner']==False]['hsv_buckets'].mean()\n",
      "turn = df[df['is_Turner']==True]['hsv_buckets'].mean()\n",
      "\n",
      "ax = plt.subplot()\n",
      "ax.bar([i-0.2 for i in range(1,10)], comb, width=0.2,color='red')\n",
      "ax.bar(range(1,10), noturn, width=0.2, color='green')\n",
      "ax.bar([i+0.2 for i in range(1,10)], turn, width=0.2, color='blue')\n",
      "plt.show()"
     ],
     "language": "python",
     "metadata": {},
     "outputs": [
      {
       "metadata": {},
       "output_type": "display_data",
       "png": "[encoded data removed]",
       "text": [
        "<matplotlib.figure.Figure at 0x15816860>"
       ]
      }
     ],
     "prompt_number": 17
    },
    {
     "cell_type": "code",
     "collapsed": false,
     "input": [
      "df['rgb_wide_buckets'] = df['thumbnailUrl'].map(lambda x: rgb_histogram(get_image(x), 5))\n",
      "df['rgb_short_buckets'] = df['thumbnailUrl'].map(lambda x: rgb_histogram(get_image(x), 2))"
     ],
     "language": "python",
     "metadata": {},
     "outputs": [],
     "prompt_number": 18
    },
    {
     "cell_type": "code",
     "collapsed": false,
     "input": [
      "comb = df['rgb_wide_buckets'].mean()\n",
      "noturn = df[df['is_Turner']==False]['rgb_wide_buckets'].mean()\n",
      "turn = df[df['is_Turner']==True]['rgb_wide_buckets'].mean()\n",
      "\n",
      "print comb\n",
      "\n",
      "fig = plt.figure(figsize=(12,6))\n",
      "ax = plt.subplot()\n",
      "ax.bar([i-0.2 for i in range(1,16)], comb, width=0.2,color='red')\n",
      "ax.bar(range(1,16), noturn, width=0.2, color='green')\n",
      "ax.bar([i+0.2 for i in range(1,16)], turn, width=0.2, color='blue')\n",
      "plt.show()"
     ],
     "language": "python",
     "metadata": {},
     "outputs": [
      {
       "output_type": "stream",
       "stream": "stdout",
       "text": [
        "[  6024.625     7734.78125   8649.75      8955.03125  16291.8125    7498.25\n",
        "   8008.9375    8296.90625   9000.34375  14851.5625    8558.96875\n",
        "   9146.34375   9447.       10740.5       9763.1875 ]\n"
       ]
      },
      {
       "metadata": {},
       "output_type": "display_data",
       "png": "[encoded data removed]",
       "text": [
        "<matplotlib.figure.Figure at 0x15ef5eb8>"
       ]
      }
     ],
     "prompt_number": 19
    },
    {
     "cell_type": "code",
     "collapsed": false,
     "input": [
      "df['wide_hsv_buckets'] = df['thumbnailUrl'].map(lambda x: hsv_histogram(get_image(x), 5))"
     ],
     "language": "python",
     "metadata": {},
     "outputs": [],
     "prompt_number": 20
    },
    {
     "cell_type": "code",
     "collapsed": false,
     "input": [
      "comb = df['wide_hsv_buckets'].mean()\n",
      "noturn = df[df['is_Turner']==False]['wide_hsv_buckets'].mean()\n",
      "turn = df[df['is_Turner']==True]['wide_hsv_buckets'].mean()\n",
      "\n",
      "fig = plt.figure(figsize=(12,6))\n",
      "ax = plt.subplot()\n",
      "ax.bar([i-0.2 for i in range(1,16)], comb, width=0.2,color='red')\n",
      "ax.bar(range(1,16), noturn, width=0.2, color='green')\n",
      "ax.bar([i+0.2 for i in range(1,16)], turn, width=0.2, color='blue')\n",
      "plt.show()"
     ],
     "language": "python",
     "metadata": {},
     "outputs": [
      {
       "metadata": {},
       "output_type": "display_data",
       "png": "[encoded data removed]",
       "text": [
        "<matplotlib.figure.Figure at 0x15f5eb70>"
       ]
      }
     ],
     "prompt_number": 21
    },
    {
     "cell_type": "code",
     "collapsed": false,
     "input": [
      "def get_color_keys():\n",
      "    return range(8)\n",
      "\n",
      "def nearest_color(pixel):\n",
      "    r = pixel[0] > 127\n",
      "    g = pixel[1] > 127\n",
      "    b = pixel[2] > 127\n",
      "    \n",
      "    return int(r) + int(g)*2 + int(b)*4\n",
      "\n",
      "def color_mapping(img):\n",
      "    coldic = {k:0 for k in get_color_keys()}\n",
      "    for x in xrange(img.shape[0]):\n",
      "        for y in xrange(img.shape[1]):\n",
      "            coldic[nearest_color(img[x,y])] += 1\n",
      "    return coldic\n",
      "\n",
      "df['colour_maps'] = df['thumbnailUrl'].map(lambda x: color_mapping(get_image(x)))"
     ],
     "language": "python",
     "metadata": {},
     "outputs": [],
     "prompt_number": 23
    },
    {
     "cell_type": "code",
     "collapsed": false,
     "input": [],
     "language": "python",
     "metadata": {},
     "outputs": [],
     "prompt_number": 48
    },
    {
     "cell_type": "code",
     "collapsed": false,
     "input": [
      "def average_map_colors(coldics):\n",
      "    counter = collections.Counter()\n",
      "\n",
      "    for d in coldics: \n",
      "        counter.update(d)\n",
      "    \n",
      "    d = dict(counter)\n",
      "    \n",
      "    total = float(sum(d.values()))\n",
      "    \n",
      "    return {k: v/total for k,v in d.items()}\n",
      "\n",
      "df3 = df.groupby(['date_painted'])[['date_painted','colour_maps']]\n",
      "\n",
      "df4 = df3.apply(lambda x: average_map_colors(x.colour_maps))\n",
      "\n",
      "dic = df4.to_dict()"
     ],
     "language": "python",
     "metadata": {},
     "outputs": [],
     "prompt_number": 38
    },
    {
     "cell_type": "code",
     "collapsed": false,
     "input": [
      "cv_h = 100\n",
      "\n",
      "step = 50\n",
      "\n",
      "lo = min(dic.keys())\n",
      "nhlo = int(math.ceil(lo / float(step))) * step\n",
      "nhoff = nhlo-lo\n",
      "\n",
      "hi = max(dic.keys())\n",
      "cv_l = hi-lo+1\n",
      "huns = int(cv_l)/step\n",
      "\n",
      "canvas = np.ones((cv_l, cv_h,3))\n",
      "\n",
      "def get_color(n):\n",
      "    r = n % 2\n",
      "    g = (n / 2) % 2\n",
      "    b = (n / 4) % 2\n",
      "\n",
      "    return [v*0.8+0.1 for v in [r,g,b]]\n",
      "    \n",
      "#int(r) + int(g)*2 + int(b)*4\n",
      "\n",
      "def get_pixels_from_mapping(cols, cv_h):\n",
      "    row = np.zeros((100,3))\n",
      "    \n",
      "    npixel = {k: cv_h*v for k,v in cols.items()}\n",
      "    \n",
      "    for k in npixel.keys():\n",
      "        if k != 0:\n",
      "            npixel[k] += npixel[k-1]\n",
      "    \n",
      "    current = 0\n",
      "    for i in xrange(cv_h):\n",
      "        if i > npixel[current]:\n",
      "            current += 1\n",
      "        row[i] = get_color(current)\n",
      "    \n",
      "    return row\n",
      "\n",
      "for k, v in dic.items():\n",
      "    canvas[k-lo] = get_pixels_from_mapping(v, cv_h)\n",
      "    \n",
      "finimg = canvas.transpose((1,0,2))\n",
      "\n",
      "plt.xticks([step*x+nhoff for x in range(huns)], [nhlo+x*step for x in range(huns)])\n",
      "imshow(finimg)"
     ],
     "language": "python",
     "metadata": {},
     "outputs": [
      {
       "output_type": "stream",
       "stream": "stdout",
       "text": [
        "1793.0\n",
        "1800\n"
       ]
      },
      {
       "metadata": {},
       "output_type": "display_data",
       "png": "[encoded data removed]",
       "text": [
        "<matplotlib.figure.Figure at 0x16fccc50>"
       ]
      }
     ],
     "prompt_number": 112
    },
    {
     "cell_type": "heading",
     "level": 1,
     "metadata": {},
     "source": [
      "Part2: Predictive Model (40pts)\n",
      "----\n",
      "\n",
      "Use your knowledge of the data to build a predictive model. Suggested Python module to use here: `sklearn`.\n",
      "\n",
      "You can either predict missing values in the data, use the data to predict another data set, or use another data set to predict this data set, or, or, or...\n",
      "\n",
      "Grading will consider the complexity of the model, its performance, and the difficulty of the prediction task."
     ]
    },
    {
     "cell_type": "code",
     "collapsed": false,
     "input": [
      "def mediumOn(text):\n",
      " \n",
      "    #If there is nothing return NaN:\n",
      "    if len(text)==0:\n",
      "        return np.NaN, np.NaN\n",
      "   \n",
      "    if ' on ' in text:\n",
      "        text = text.lower()\n",
      "        parts = text.split(' on ')\n",
      "        partOne = parts[0].replace(' and ', ' , ')\n",
      "        partOne = partOne.replace(' paint', '')\n",
      "        partOne = partOne.replace( 'print', '')\n",
      "        partOne = partOne.split(',')\n",
      "        partOne = [x.strip() for x in partOne]\n",
      "        finalParts = partOne.append(parts[1])\n",
      "       \n",
      "        return set(partOne)\n",
      "       \n",
      "    else:\n",
      "        return set([]), ''\n",
      " \n",
      "def getMedium(dataframe):\n",
      "    df['Medium'] = df['medium'].map(mediumOn)\n",
      " \n",
      "getMedium(df)"
     ],
     "language": "python",
     "metadata": {},
     "outputs": [],
     "prompt_number": 81
    },
    {
     "cell_type": "markdown",
     "metadata": {},
     "source": [
      "Part3: Visualization (30pts)\n",
      "----\n",
      "\n",
      "Finally, visualize either the original data, the predictibve model, or both. Grading will take into account how informative and creative the visualization is. When in doubt, an informative visualization is worth more than a creative one!"
     ]
    },
    {
     "cell_type": "code",
     "collapsed": false,
     "input": [],
     "language": "python",
     "metadata": {},
     "outputs": []
    }
   ],
   "metadata": {}
  }
 ]
}